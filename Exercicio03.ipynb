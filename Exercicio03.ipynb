{
 "cells": [
  {
   "cell_type": "markdown",
   "metadata": {},
   "source": [
    "1. Faça um Programa que peça dois números e imprima o maior\n",
    "deles."
   ]
  },
  {
   "cell_type": "code",
   "execution_count": 5,
   "metadata": {},
   "outputs": [
    {
     "name": "stdout",
     "output_type": "stream",
     "text": [
      "Digite um numero: 2\n",
      "Digite um numero: 1\n",
      "O maior numero é:  2.0\n"
     ]
    }
   ],
   "source": [
    "num1 = float (input (\"Digite um numero: \"))\n",
    "num2 = float (input (\"Digite um numero: \"))\n",
    "\n",
    "if num1 > num2:\n",
    "    print (\"O maior numero é: \", num1)\n",
    "else:\n",
    "    print (\"O maior numero é: \", num2)"
   ]
  },
  {
   "cell_type": "markdown",
   "metadata": {},
   "source": [
    "2. Faça um Programa que verifque se uma letra digitada é vogal ou\n",
    "consoante."
   ]
  },
  {
   "cell_type": "code",
   "execution_count": null,
   "metadata": {},
   "outputs": [],
   "source": [
    "vogais = 'aeiou'\n",
    "\n",
    "letra = input(\"Digite uma letra\")\n",
    "\n",
    "if letra in vogais:\n",
    "    \n",
    "    print(\"Sim, é uma vogal\")\n",
    "\n",
    "else:\n",
    "    print(\"Não, não é uma vogal\")"
   ]
  },
  {
   "cell_type": "markdown",
   "metadata": {},
   "source": [
    "3. Faça um programa para a leitura de duas notas parciais de um\n",
    "aluno. O programa deve calcular a média alcançada por aluno e\n",
    "apresentar:\n",
    "- A mensagem \"Aprovado\", se a média alcançada for maior ou igual\n",
    "a sete;\n",
    "- A mensagem \"Reprovado\", se a média for menor do que sete;\n",
    "- A mensagem \"Aprovado com Distinção\", se a média for igual a\n",
    "dez."
   ]
  },
  {
   "cell_type": "code",
   "execution_count": null,
   "metadata": {},
   "outputs": [],
   "source": [
    "nota1 = float (input (\"Digite a nota da A1: \"))\n",
    "nota2 = float (input (\"Digite a nota da A2: \"))\n",
    "nota3 = float (input (\"Digite a nota da A3: \"))\n",
    "\n",
    "nota_final = (nota1 + nota2 + nota3) / 3\n",
    "\n",
    "if nota_final >= 7:\n",
    "    if nota_final == 10:\n",
    "        print (\"Aprovado com Distinção\")\n",
    "    else:\n",
    "        print (\"Aprovado!\")\n",
    "else:\n",
    "    print (\"Reprovado!\")\n",
    "    "
   ]
  },
  {
   "cell_type": "markdown",
   "metadata": {},
   "source": [
    "4. Faça um Programa que leia três números e mostre-os em ordem\n",
    "decrescente.\n"
   ]
  },
  {
   "cell_type": "code",
   "execution_count": 1,
   "metadata": {},
   "outputs": [
    {
     "name": "stdout",
     "output_type": "stream",
     "text": [
      "Digite separado por espaço1 2 3\n",
      "3 2 1\n"
     ]
    }
   ],
   "source": [
    "lista = [int(x) for x in input(\"Digite separado por espaço\").split()]\n",
    "\n",
    "#print (lista)\n",
    "\n",
    "if lista[0]> lista[1]:\n",
    "    if lista[0] > lista[2]:\n",
    "        if lista[1] > lista[2]:\n",
    "            print (lista[0], lista[1], lista[2])\n",
    "        else: \n",
    "            print (lista[0], lista[2], lista[1])\n",
    "    else:\n",
    "        print (lista[2], lista[0], lista [1])\n",
    "else:\n",
    "    if lista[1] > lista [2]:\n",
    "        if lista[2] > lista [0]:\n",
    "            print (lista[1], lista[2], lista[0])\n",
    "        else:\n",
    "            print(lista[1], lista[0], lista[2])\n",
    "    else: \n",
    "        print (lista[2], lista[1], lista[0])\n"
   ]
  },
  {
   "cell_type": "markdown",
   "metadata": {},
   "source": [
    "5. As Organizações Tabajara resolveram dar um aumento de salário\n",
    "aos seus colaboradores e lhe contrataram para desenvolver o\n",
    "programa que calculará os reajustes.\n",
    "Faça um programa que recebe o salário de um colaborador e o\n",
    "reajuste segundo o seguinte critério, baseado no salário atual:\n",
    "- salários até R$ 280,00 (incluindo) : aumento de 20%\n",
    "- salários entre R$ 280,00 e R$ 700,00 : aumento de 15%\n",
    "- salários entre R$ 700,00 e R$ 1500,00 : aumento de 10%\n",
    "- salários de R$ 1500,00 em diante : aumento de 5% Após o\n",
    "aumento ser realizado, informe na tela:\n",
    "- o salário antes do reajuste;\n",
    "- o percentual de aumento aplicado;\n",
    "- o valor do aumento;\n",
    "- o novo salário, após o aumento."
   ]
  },
  {
   "cell_type": "code",
   "execution_count": 8,
   "metadata": {},
   "outputs": [
    {
     "name": "stdout",
     "output_type": "stream",
     "text": [
      "Digite seu salario: 280\n",
      "Salario atual:  280.0\n",
      "Porcentagem aplicada: 20%\n",
      "Valor do aumento:  56.0\n",
      "Salário ajustado:  336.0\n"
     ]
    }
   ],
   "source": [
    "salario = float (input (\"Digite seu salario: \"))\n",
    "\n",
    "if salario <= 280.00:\n",
    "    salario_final = salario * 1.20\n",
    "    print (\"Salario atual: \", salario)\n",
    "    print (\"Porcentagem aplicada: 20%\")\n",
    "    print (\"Valor do aumento: \", salario_final - salario)\n",
    "    print (\"Salário ajustado: \", salario_final)\n",
    "elif salario > 280.00 and salario < 700.00:\n",
    "    salario_final = salario * 1.15\n",
    "    print (\"Salario atual: \", salario)\n",
    "    print (\"Porcentagem aplicada: 15%\")\n",
    "    print (\"Valor do aumento: \", salario_final - salario)\n",
    "    print (\"Salário ajustado: \", salario_final)\n",
    "elif salario >=700.00 and salario < 1500.00:\n",
    "    salario_final = salario * 1.10\n",
    "    print (\"Salario atual: \", salario)\n",
    "    print (\"Porcentagem aplicada: 10%\")\n",
    "    print (\"Valor do aumento: \", salario_final - salario)\n",
    "    print (\"Salário ajustado: \", salario_final)\n",
    "elif salario >=  1500.00:\n",
    "    salario_final = salario * 1.05\n",
    "    print (\"Salario atual: \", salario)\n",
    "    print (\"Porcentagem aplicada: 5%\")\n",
    "    print (\"Valor do aumento: \", salario_final - salario)\n",
    "    print(\"Salário ajustado: \", salario_final)"
   ]
  },
  {
   "cell_type": "markdown",
   "metadata": {},
   "source": [
    "6. Faça um Programa que leia um número e exiba o dia\n",
    "correspondente da semana. (1-Domingo, 2- Segunda, etc.), se\n",
    "digitar outro valor deve aparecer valor inválido."
   ]
  },
  {
   "cell_type": "code",
   "execution_count": 14,
   "metadata": {},
   "outputs": [
    {
     "ename": "SyntaxError",
     "evalue": "invalid syntax (<ipython-input-14-6f97522565b9>, line 3)",
     "output_type": "error",
     "traceback": [
      "\u001b[1;36m  File \u001b[1;32m\"<ipython-input-14-6f97522565b9>\"\u001b[1;36m, line \u001b[1;32m3\u001b[0m\n\u001b[1;33m    2:\"Segunda\"\u001b[0m\n\u001b[1;37m    ^\u001b[0m\n\u001b[1;31mSyntaxError\u001b[0m\u001b[1;31m:\u001b[0m invalid syntax\n"
     ]
    }
   ],
   "source": [
    "dias ={\n",
    "    1:\"Domingo\"\n",
    "    2:\"Segunda\"\n",
    "    3:\"Terça\"\n",
    "    4:\"Quarta\"\n",
    "    5:\"Quinta\"\n",
    "    6:\"Sexta\"\n",
    "    7:\"Sábado\"\n",
    "}\n",
    "\n",
    "dia = int (input (\"Digite o dia\"))\n",
    "\n",
    "if dia < 1 or dia > 7:\n",
    "    print (\"Fora do intervalo\")\n",
    "else:\n",
    "    print (dias[dia])"
   ]
  },
  {
   "cell_type": "markdown",
   "metadata": {},
   "source": [
    "7. Faça um programa que lê as duas notas parciais obtidas por um\n",
    "aluno numa disciplina ao longo de um semestre, e calcule a sua\n",
    "média. A atribuição de conceitos obedece à tabela abaixo:\n",
    " Média de Aproveitamento Conceito\n",
    " Entre 9.0 e 10.0 A\n",
    " Entre 7.5 e 9.0 B\n",
    " Entre 6.0 e 7.5 C\n",
    " Entre 4.0 e 6.0 D\n",
    " Entre 4.0 e zero E\n",
    "O algoritmo deve mostrar na tela as notas, a média, o conceito\n",
    "correspondente e a mensagem “APROVADO” se o conceito for A, B\n",
    "ou C ou “REPROVADO” se o conceito for D ou E.\n"
   ]
  },
  {
   "cell_type": "code",
   "execution_count": null,
   "metadata": {},
   "outputs": [],
   "source": [
    "nota1 = float (input (\"Digite a nota A1: \"))\n",
    "nota2 = float (input (\"Digite a nota A2: \"))\n",
    "\n",
    "nota_final = (nota1 + nota2) / 2\n",
    "\n",
    "print (\"Nota A1: \", nota1,\"Nota A2: \", nota2)\n",
    "\n",
    "if nota_final >=9.0 and nota_final<= 10.0:\n",
    "    print (\"Média: \", nota_final, \" A \")\n",
    "    print (\"Aprovado\")\n",
    "elif nota_final >=7.5 and nota_final < 9.0:\n",
    "    print (\"Média: \", nota_final, \" B \")\n",
    "    print (\"Aprovado\")\n",
    "elif nota_final >= 6.0 and nota_final < 7.5:\n",
    "    print (\"Média: \", nota_final, \" C \")\n",
    "    print (\"Aprovado\")\n",
    "elif nota_final >= 4.0 and nota_final < 6.0:\n",
    "    print (\"Média: \", nota_final, \" D \")\n",
    "    print (\"Reprovado\")\n",
    "elif nota_final >= 4.0 and nota_fianl < 0.0:\n",
    "    print (\"Média: \", nota_final, \" E \")\n",
    "    print (\"Reprovado\")\n"
   ]
  },
  {
   "cell_type": "markdown",
   "metadata": {},
   "source": [
    "8. Faça um Programa que peça os 3 lados de um triângulo. O\n",
    "programa deverá informar se os valores podem ser um triângulo.\n",
    "Indique, caso os lados formem um triângulo, se o mesmo é:\n",
    "equilátero, isósceles ou escaleno.\n",
    "Dicas:\n",
    "- Três lados formam um triângulo quando a soma de quaisquer dois\n",
    "lados for maior que o terceiro;\n",
    "- Triângulo Equilátero: três lados iguais;\n",
    "- Triângulo Isósceles: quaisquer dois lados iguais;\n",
    "- Triângulo Escaleno: três lados diferentes;\n"
   ]
  },
  {
   "cell_type": "code",
   "execution_count": null,
   "metadata": {},
   "outputs": [],
   "source": [
    "a = float(input(\"Digite lado 1: \"))\n",
    "b = float(input(\"Digite lado 2: \"))\n",
    "c = float(input(\"Digite lado 3: \"))\n",
    "\n",
    "if a + b > c and a + c > b and b + c > a:\n",
    "    if a == b and a == c:\n",
    "        print(\"Equilatero\")\n",
    "    elif a == b or a == c or b == c:    \n",
    "        print(\"Isósceles\")\n",
    "    else:    \n",
    "        print (\"Escaleno\")\n",
    "else:\n",
    "    print (\"Não podem formar um triangulo\")"
   ]
  },
  {
   "cell_type": "markdown",
   "metadata": {},
   "source": [
    "9. Faça um programa que calcule as raízes de uma equação do\n",
    "segundo grau, na forma ax2 + bx + c. O programa deverá pedir os\n",
    "valores de a, b e c e fazer as consistências, informando ao usuário\n",
    "nas seguintes situações:\n",
    "- Se o usuário informar o valor de A igual a zero, a equação não é do\n",
    "segundo grau e o programa não deve fazer pedir os demais valores,\n",
    "sendo encerrado;\n",
    "- Se o delta calculado for negativo, a equação não possui raizes\n",
    "reais. Informe ao usuário e encerre o programa;\n",
    "- Se o delta calculado for igual a zero a equação possui apenas uma\n",
    "raiz real; informe-a ao usuário;\n",
    "- Se o delta for positivo, a equação possui duas raiz reais; informeas\n",
    "ao usuário;"
   ]
  },
  {
   "cell_type": "code",
   "execution_count": 11,
   "metadata": {},
   "outputs": [
    {
     "name": "stdout",
     "output_type": "stream",
     "text": [
      "Equação: ax2 + bx + c\n",
      "Digite um valor para A: 19\n",
      "Digite um valor para B: 12\n",
      "Digite um valor para C: 9\n",
      "A equação não possui raizes reais! \n"
     ]
    }
   ],
   "source": [
    "import math\n",
    "print (\"Equação: ax2 + bx + c\")\n",
    "\n",
    "a = float (input (\"Digite um valor para A: \"))\n",
    "\n",
    "if a == 0:\n",
    "    print (\"A equação não é do segundo grau\")\n",
    "    \n",
    "else:\n",
    "    b = float (input (\"Digite um valor para B: \"))\n",
    "    c = float (input (\"Digite um valor para C: \"))\n",
    "    \n",
    "    delta = b**2 - 4 * a * c\n",
    "\n",
    "    if delta < 0:\n",
    "        print (\"A equação não possui raizes reais! \")\n",
    "    elif delta == 0:\n",
    "        raiz = (-1 * b + math.sqrt(delta)) / (2 * a)\n",
    "        print (\"A equação possui apenas uma raiz real: \",raiz )\n",
    "    else:\n",
    "        raiz1 = (-1 * b + math.sqrt(delta)) / (2 * a)\n",
    "        raiz2 = (-1 * b - math.sqrt(delta)) / (2 * a)\n",
    "        print (\"A equação possui duas raizes: \",raiz1 ,raiz2 )\n",
    "\n"
   ]
  },
  {
   "cell_type": "markdown",
   "metadata": {},
   "source": [
    "10. Faça um Programa para um caixa eletrônico. O programa\n",
    "deverá perguntar ao usuário a valor do saque e depois informar\n",
    "quantas notas de cada valor serão fornecidas. As notas disponíveis\n",
    "serão as de 1, 5, 10, 50 e 100 reais. O valor mínimo é de 10 reais e\n",
    "o máximo de 600 reais. O programa não deve se preocupar com a\n",
    "quantidade de notas existentes na máquina.\n",
    "- Exemplo 1: Para sacar a quantia de 256 reais, o programa fornece\n",
    "duas notas de 100, uma nota de 50, uma nota de 5 e uma nota de\n",
    "1;\n",
    "- Exemplo 2: Para sacar a quantia de 399 reais, o programa fornece\n",
    "três notas de 100, uma nota de 50, quatro notas de 10, uma nota de\n",
    "5 e quatro notas de 1."
   ]
  },
  {
   "cell_type": "code",
   "execution_count": null,
   "metadata": {},
   "outputs": [],
   "source": [
    "\n",
    "saque = int (input(\"Quanto você quer sacar?\"))\n",
    "if saque >= 10 and saque <= 600:\n",
    "    n100 = saque // 100\n",
    "    r100 = saque % 100\n",
    "    n50 = r100 // 50\n",
    "    r50 = r100 % 50\n",
    "    n10 = r50 // 10\n",
    "    r10 = r50 % 10\n",
    "    n5 = r10 // 5\n",
    "    r5 = r10 % 5\n",
    "    n1 = r5 // 1 \n",
    "    \n",
    "    print(n100, n50, n10, n5, n1)\n",
    "else:  \n",
    "    print (\"Sai fora\")"
   ]
  },
  {
   "cell_type": "markdown",
   "metadata": {},
   "source": [
    "11. Faça um programa que faça 5 perguntas para uma pessoa\n",
    "sobre um crime. As perguntas são:\n",
    "\"Telefonou para a vítima?\"\n",
    "\"Esteve no local do crime?\"\n",
    "\"Mora perto da vítima?\"\n",
    "\"Devia para a vítima?\"\n",
    "\"Já trabalhou com a vítima?\"\n",
    "O programa deve no fnal emitir uma classifcação sobre a\n",
    "participação da pessoa no crime. Se a pessoa responder\n",
    "positivamente a 2 questões ela deve ser classifcada como\n",
    "\"Suspeita\", entre 3 e 4 como \"Cúmplice\" e 5 como \"Assassino\". Caso\n",
    "contrário, ele será classifcado como \"Inocente\".\n"
   ]
  },
  {
   "cell_type": "code",
   "execution_count": null,
   "metadata": {},
   "outputs": [
    {
     "name": "stdout",
     "output_type": "stream",
     "text": [
      "Responda as perguntas com sim ou não\n"
     ]
    }
   ],
   "source": [
    "print (\"Responda as perguntas com sim ou não\")\n",
    "p1 = input(\"Telefonou para a vitima? \")\n",
    "p2 = input(\"Esteve no local do crime? \")\n",
    "p3 = input(\"Mora perto da vitima? \")\n",
    "p4 = input(\"Devia para a vitima? \")\n",
    "p5 = input(\"Já trabalhou com a vitima? \")\n",
    "\n",
    "string1 = \"sim\"\n",
    "string2 = \"não\"\n",
    "\n",
    "lista = [p1,p2,p3,p4,p5]\n",
    "cont = lista.count ('sim')\n",
    "\n",
    "if cont == 2:\n",
    "    print (\"Suspeito\")\n",
    "elif cont >= 3 and lista.count <= 4:\n",
    "    print (\"Cúmplice\")\n",
    "elif cont == 5:\n",
    "    print (\"Assassino\")\n"
   ]
  },
  {
   "cell_type": "markdown",
   "metadata": {},
   "source": [
    "12. Uma fruteira está vendendo frutas com a seguinte tabela de\n",
    "preços:\n",
    " Até 5 Kg Acima de 5 Kg\n",
    "Morango R$ 2,50 por Kg R$ 2,20 por Kg\n",
    "Maçã R$ 1,80 por Kg R$ 1,50 por Kg\n",
    "Se o cliente comprar mais de 8 Kg em frutas ou o valor total da\n",
    "compra ultrapassar R$ 25,00, receberá ainda um desconto de 10%\n",
    "sobre este total. Escreva um algoritmo para ler a quantidade (em\n",
    "Kg) de morangos e a quantidade (em Kg) de maças adquiridas e\n",
    "escreva o valor a ser pago pelo cliente.\n"
   ]
  },
  {
   "cell_type": "code",
   "execution_count": 2,
   "metadata": {},
   "outputs": [
    {
     "name": "stdout",
     "output_type": "stream",
     "text": [
      "Quantos kg de maçã?10\n",
      "Quantos kg de morango?10\n",
      "Você vai pagar:  33.300000000000004\n"
     ]
    }
   ],
   "source": [
    "\n",
    "maca = float(input(\"Quantos kg de maçã?\"))\n",
    "morango = float(input(\"Quantos kg de morango?\"))\n",
    "\n",
    "if maca <= 5: \n",
    "    total_maca = maca * 1.8\n",
    "else: \n",
    "    total_maca = maca * 1.5\n",
    "if morango <=5: \n",
    "    total_morango = morango * 2.5\n",
    "else:\n",
    "    total_morango = morango * 2.2 \n",
    "\n",
    "total_quilos = morango + maca\n",
    "preco_final = total_maca + total_morango\n",
    "\n",
    "if total_quilos > 8 or preco_final > 25:\n",
    "    preco_final = preco_final * 0.9\n",
    "    print (\"Você vai pagar: \", preco_final)"
   ]
  },
  {
   "cell_type": "markdown",
   "metadata": {},
   "source": [
    "13. Faça um programa que peça uma nota, entre zero e dez. Mostre\n",
    "uma mensagem caso o valor seja inválido e continue pedindo até\n",
    "que o usuário informe um valor válido.\n"
   ]
  },
  {
   "cell_type": "code",
   "execution_count": null,
   "metadata": {},
   "outputs": [],
   "source": [
    "valor = int(input (\"Digite um numero de 0 a 10: \"))\n",
    "\n",
    "while 0 > valor or 10 < valor:\n",
    "    valor = int (input(\"digite um numero valido: \"))  "
   ]
  },
  {
   "cell_type": "markdown",
   "metadata": {},
   "source": [
    "13. Faça um programa que leia e valide as seguintes informações:\n",
    "Nome: maior que 3 caracteres;\n",
    "Idade: entre 0 e 150;\n",
    "Salário: maior que zero;\n",
    "Sexo: 'f' ou 'm';\n",
    "Estado Civil: 's', 'c', 'v', 'd';\n"
   ]
  },
  {
   "cell_type": "code",
   "execution_count": null,
   "metadata": {},
   "outputs": [],
   "source": [
    "valid = True\n",
    "\n",
    "while valid:\n",
    "    nome = input(\"Digite o nome: \") \n",
    "    idade = int(input (\"Digite a idade: \"))\n",
    "    salario = float (input (\"Digite o salario\"))\n",
    "    sexo = input(\"Digite o sexo\")\n",
    "    est_civil = input(\"Digite o estado civil\")\n",
    "    \n",
    "    if len(nome) > 3 and idade >= 0 and idade <=150 and salario > 0 and sexo in 'fm' and est_civil in 'scvd':\n",
    "        \n",
    "        print (\"Esse foi\") \n",
    "    else:     \n",
    "        valid = not valid"
   ]
  },
  {
   "cell_type": "markdown",
   "metadata": {},
   "source": [
    "   14. Faça um programa que leia 5 números e informe o maior\n",
    "número.\n",
    " "
   ]
  },
  {
   "cell_type": "code",
   "execution_count": null,
   "metadata": {},
   "outputs": [],
   "source": [
    "lista = [int( input (\"Digte um numero e de enter: \")) for i in range (5)]\n",
    "\n",
    "print (\"O maior numero é: \", max(lista))"
   ]
  },
  {
   "cell_type": "markdown",
   "metadata": {},
   "source": [
    "15. Faça um programa que leia 5 números e informe a soma e a\n",
    "média dos números.\n"
   ]
  },
  {
   "cell_type": "code",
   "execution_count": null,
   "metadata": {},
   "outputs": [],
   "source": [
    "soma = 0\n",
    "\n",
    "for _ in range(5): \n",
    "    soma += float(input(\"Digite o valor: \"))\n",
    "print (soma, soma / 5)\n",
    "  "
   ]
  },
  {
   "cell_type": "markdown",
   "metadata": {},
   "source": [
    "16. Faça um programa que imprima na tela apenas os números\n",
    "ímpares entre 1 e 50.\n"
   ]
  },
  {
   "cell_type": "code",
   "execution_count": 7,
   "metadata": {},
   "outputs": [
    {
     "name": "stdout",
     "output_type": "stream",
     "text": [
      "1\n",
      "3\n",
      "5\n",
      "7\n",
      "9\n",
      "11\n",
      "13\n",
      "15\n",
      "17\n",
      "19\n",
      "21\n",
      "23\n",
      "25\n",
      "27\n",
      "29\n",
      "31\n",
      "33\n",
      "35\n",
      "37\n",
      "39\n",
      "41\n",
      "43\n",
      "45\n",
      "47\n",
      "39\n"
     ]
    }
   ],
   "source": [
    "lista = [1, 2, 3, 4, 5, 6, 7, 8, 9, 10,\n",
    "        11, 12, 13, 14, 15, 16, 17, 18, 19, 20,\n",
    "        21, 22, 23, 24, 25, 26, 27, 28, 29, 30,\n",
    "        31, 32, 33, 34, 35, 36, 37, 38, 39, 40,\n",
    "        41, 42, 43, 44, 45, 46, 47, 48, 39, 50]\n",
    "result = 0\n",
    "\n",
    "for i in lista:\n",
    "    result = i % 2\n",
    "    if result != 0:\n",
    "        print (i)\n",
    "    "
   ]
  },
  {
   "cell_type": "markdown",
   "metadata": {},
   "source": [
    "17. Desenvolva um gerador de tabuada, capaz de gerar a tabuada\n",
    "de qualquer número inteiro entre 1 a 10. O usuário deve informar\n",
    "de qual numero ele deseja ver a tabuada. A saída deve ser\n",
    "conforme o exemplo abaixo:\n",
    "Tabuada de 5:\n",
    "5 X 1 = 5\n",
    "5 X 2 = 10\n",
    "...\n",
    "5 X 10 = 50\n"
   ]
  },
  {
   "cell_type": "code",
   "execution_count": null,
   "metadata": {},
   "outputs": [],
   "source": [
    "a = int(input (\"Digite um numero de 0 a 10: \"))\n",
    "\n",
    "lista = [1, 2, 3, 4, 5, 6, 7, 8, 9, 10]\n",
    "\n",
    "print (\"Tabuada de \", a)\n",
    "for i in lista:\n",
    "    result = i * a\n",
    "    print (a, \"X\", i, \"=\", result)"
   ]
  },
  {
   "cell_type": "markdown",
   "metadata": {},
   "source": [
    "18. A série de Fibonacci é formada pela seqüência\n",
    "1,1,2,3,5,8,13,21,34,55,... Faça um programa capaz de gerar a série\n",
    "até o n−ésimo termo."
   ]
  },
  {
   "cell_type": "code",
   "execution_count": 4,
   "metadata": {},
   "outputs": [
    {
     "name": "stdout",
     "output_type": "stream",
     "text": [
      "1\n",
      "1\n",
      "2\n",
      "3\n",
      "5\n",
      "8\n",
      "13\n",
      "21\n",
      "34\n",
      "55\n",
      "89\n",
      "144\n",
      "233\n",
      "377\n",
      "610\n",
      "987\n"
     ]
    }
   ],
   "source": [
    "a,b = 0,1\n",
    "n = 1000\n",
    "while b < n:\n",
    "    print (b)\n",
    "    \n",
    "    a,b = b, a+b"
   ]
  },
  {
   "cell_type": "markdown",
   "metadata": {},
   "source": [
    "19. Faça um programa que calcule o fatorial de um número inteiro\n",
    "fornecido pelo usuário. Ex.: 5!=5.4.3.2.1=120\n"
   ]
  },
  {
   "cell_type": "code",
   "execution_count": null,
   "metadata": {},
   "outputs": [],
   "source": [
    "import math\n",
    "num = int (input(\"Digite um numero: \"))\n",
    "\n",
    "print (\"O resultado é: \", math.factorial(num))"
   ]
  },
  {
   "cell_type": "markdown",
   "metadata": {},
   "source": [
    "20. O Sr. Manoel Joaquim possui uma grande loja de artigos de R$\n",
    "1,99, com cerca de 10 caixas. Para agilizar o cálculo de quanto cada\n",
    "cliente deve pagar ele desenvolveu um tabela que contém o\n",
    "número de itens que o cliente comprou e ao lado o valor da conta.\n",
    "Desta forma a atendente do caixa precisa apenas contar quantos\n",
    "itens o cliente está levando e olhar na tabela de preços. Você foi\n",
    "contratado para desenvolver o programa que monta esta tabela de\n",
    "preços, que conterá os preços de 1 até 50 produtos, conforme o\n",
    "exemplo abaixo:\n",
    "Lojas Quase Dois - Tabela de preços\n",
    "1 - R$ 1.99\n",
    "2 - R$ 3.98\n",
    "...\n",
    "50 - R$ 99.50"
   ]
  },
  {
   "cell_type": "code",
   "execution_count": 1,
   "metadata": {},
   "outputs": [
    {
     "name": "stdout",
     "output_type": "stream",
     "text": [
      "Digite a quantidade comprada: 4\n",
      "Valor a pagar:  7.96\n"
     ]
    }
   ],
   "source": [
    "qnt = int(input(\"Digite a quantidade comprada: \"))\n",
    "\n",
    "valor = 1.99 * qnt\n",
    "\n",
    "print (\"Valor a pagar: \", valor)"
   ]
  },
  {
   "cell_type": "markdown",
   "metadata": {},
   "source": [
    "21. O Sr. Manoel Joaquim acaba de adquirir uma panifcadora e\n",
    "pretende implantar a metodologia da tabelinha, que já é um\n",
    "sucesso na sua loja de 1,99. Você foi contratado para desenvolver o\n",
    "programa que monta a tabela de preços de pães, de 1 até 50 pães,\n",
    "a partir do preço do pão informado pelo usuário, conforme o\n",
    "exemplo abaixo:\n",
    "Preço do pão: R$ 0.18\n",
    "Panificadora Pão de Ontem - Tabela de preços\n",
    "1 - R$ 0.18\n",
    "2 - R$ 0.36\n",
    "...\n",
    "50 - R$ 9.00"
   ]
  },
  {
   "cell_type": "code",
   "execution_count": 1,
   "metadata": {},
   "outputs": [
    {
     "name": "stdout",
     "output_type": "stream",
     "text": [
      "Digite o valor: 1\n",
      "Preço do pão: R$  1.0\n",
      "Panificadora Pão de Ontem - Tabela de preços\n",
      "0 - 0.0\n",
      "1 - 1.0\n",
      "2 - 2.0\n",
      "3 - 3.0\n",
      "4 - 4.0\n",
      "5 - 5.0\n",
      "6 - 6.0\n",
      "7 - 7.0\n",
      "8 - 8.0\n",
      "9 - 9.0\n",
      "10 - 10.0\n",
      "11 - 11.0\n",
      "12 - 12.0\n",
      "13 - 13.0\n",
      "14 - 14.0\n",
      "15 - 15.0\n",
      "16 - 16.0\n",
      "17 - 17.0\n",
      "18 - 18.0\n",
      "19 - 19.0\n",
      "20 - 20.0\n",
      "21 - 21.0\n",
      "22 - 22.0\n",
      "23 - 23.0\n",
      "24 - 24.0\n",
      "25 - 25.0\n",
      "26 - 26.0\n",
      "27 - 27.0\n",
      "28 - 28.0\n",
      "29 - 29.0\n",
      "30 - 30.0\n",
      "31 - 31.0\n",
      "32 - 32.0\n",
      "33 - 33.0\n",
      "34 - 34.0\n",
      "35 - 35.0\n",
      "36 - 36.0\n",
      "37 - 37.0\n",
      "38 - 38.0\n",
      "39 - 39.0\n",
      "40 - 40.0\n",
      "41 - 41.0\n",
      "42 - 42.0\n",
      "43 - 43.0\n",
      "44 - 44.0\n",
      "45 - 45.0\n",
      "46 - 46.0\n",
      "47 - 47.0\n",
      "48 - 48.0\n",
      "49 - 49.0\n",
      "50 - 50.0\n"
     ]
    }
   ],
   "source": [
    "valor = float(input(\"Digite o valor: \"))\n",
    "print (\"Preço do pão: R$ \", valor)\n",
    "print (\"Panificadora Pão de Ontem - Tabela de preços\")\n",
    "for i in range (51):\n",
    "    result = valor * i\n",
    "    print (i, \"-\", result)"
   ]
  },
  {
   "cell_type": "markdown",
   "metadata": {},
   "source": [
    "22. O Sr. Manoel Joaquim expandiu seus negócios para além dos\n",
    "negócios de 1,99 e agora possui uma loja de conveniências. Faça\n",
    "um programa que implemente uma caixa registradora rudimentar.\n",
    "O programa deverá receber um número desconhecido de valores\n",
    "referentes aos preços das mercadorias. Um valor zero deve ser\n",
    "informado pelo operador para indicar o fnal da compra. O programa\n",
    "deve então mostrar o total da compra e perguntar o valor em\n",
    "dinheiro que o cliente forneceu, para então calcular e mostrar o\n",
    "valor do troco. Após esta operação, o programa deverá voltar ao\n",
    "ponto inicial, para registrar a próxima compra. A saída deve ser\n",
    "conforme o exemplo abaixo:\n",
    "Lojas Tabajara\n",
    "Produto 1: R$ 2.20\n",
    "Produto 2: R$ 5.80\n",
    "Produto 3: R$ 0\n",
    "Total: R$ 9.00\n",
    "Dinheiro: R$ 20.00\n",
    "Troco:"
   ]
  },
  {
   "cell_type": "code",
   "execution_count": null,
   "metadata": {},
   "outputs": [
    {
     "name": "stdout",
     "output_type": "stream",
     "text": [
      "---------- CONVENIÊNCIA -----------\n"
     ]
    }
   ],
   "source": [
    "def clear():\n",
    "    print(\"\\n\" * 40)\n",
    "\n",
    "\n",
    "while True:\n",
    "    print(\"---------- CONVENIÊNCIA -----------\")\n",
    "    n = 1\n",
    "    total = 0\n",
    "\n",
    "    while True:\n",
    "        preco = float(input(\"Produto {}: R$ \".format(n)))\n",
    "        n += 1\n",
    "        total += preco\n",
    "        if preco == 0:\n",
    "            break\n",
    "\n",
    "    print(\"------------------------------------\")\n",
    "\n",
    "    print(\"Total: R$ {:.2f} \".format(total))\n",
    "    dinheiro = float(input(\"Dinheiro: R$ \"))\n",
    "    print(\"Troco: R$ {:.2f}\".format(dinheiro - total))\n",
    "\n",
    "    print(\"------------------------------------\")\n",
    "\n",
    "    reset = input(\"pressione 0 para reset, 1 para encerrar: \")\n",
    "    if reset == \"0\":\n",
    "        clear()\n",
    "        continue\n",
    "    else:\n",
    "        clear()\n",
    "        print(\"Encerrando caixa...\")\n",
    "        break"
   ]
  },
  {
   "cell_type": "markdown",
   "metadata": {},
   "source": [
    "23. Foi feita uma estatística em cinco cidades brasileiras para coletar dados sobre acidentes de trânsito. Foram obtidos os\n",
    "seguintes dados:\n",
    "- Código da cidade;\n",
    "- Número de veículos de passeio (em 1999);\n",
    "- Número de acidentes de trânsito com vítimas (em 1999). Desejase\n",
    "saber:\n",
    "- Qual o maior e menor índice de acidentes de transito e a que\n",
    "cidade pertence;\n",
    "- Qual a média de veículos nas cinco cidades juntas;\n",
    "- Qual a média de acidentes de trânsito nas cidades com menos de\n",
    "2.000 veículos de passeio.\n"
   ]
  },
  {
   "cell_type": "code",
   "execution_count": 6,
   "metadata": {},
   "outputs": [
    {
     "name": "stdout",
     "output_type": "stream",
     "text": [
      "Digite o nome da cidade: et\n",
      "DIgite o codigo da cidade: 1\n",
      "Numero de veiculos de passeio: 1\n",
      "Numero de acidentes de transito com vitimas: 1\n",
      "Digite o nome da cidade: ere\n",
      "DIgite o codigo da cidade: 2\n",
      "Numero de veiculos de passeio: 2\n",
      "Numero de acidentes de transito com vitimas: 2\n",
      "Digite o nome da cidade: ref\n",
      "DIgite o codigo da cidade: 3\n",
      "Numero de veiculos de passeio: 3\n",
      "Numero de acidentes de transito com vitimas: 3\n",
      "Digite o nome da cidade: yr\n",
      "DIgite o codigo da cidade: 4\n",
      "Numero de veiculos de passeio: 4\n",
      "Numero de acidentes de transito com vitimas: 4\n",
      "Digite o nome da cidade: fhur\n",
      "DIgite o codigo da cidade: 5\n",
      "Numero de veiculos de passeio: 5\n",
      "Numero de acidentes de transito com vitimas: 5\n",
      "-=-=-=-=-=-=-=-=-=-=-=-=-=-=-=-=-=-=-=-=-=-=-=-=-=-=-=-=-=-=\n",
      "O menor indice de acidentes de transito é: 1, que pertence a cidade: et\n",
      "O maior indice de acidenstes de transito é: 5 que pertence a cidade: fhur\n",
      "Media de veiculos nas cincos cidades: 3.0\n",
      "Media de acidentes de transitos nas cidades com menos de 2000: 3.0\n"
     ]
    }
   ],
   "source": [
    "maior = 0\n",
    "menor = 0\n",
    "count = 0\n",
    "soma = 0 \n",
    "med_cidades = 0 \n",
    "soma2 = 0 \n",
    "media= 0\n",
    "cid = ''\n",
    "cid2 = ''\n",
    "for c in range(1,6):\n",
    "    cidade = input(\"Digite o nome da cidade: \")\n",
    "    codigo = int(input(\"DIgite o codigo da cidade: \"))\n",
    "    veiculos = int(input(\"Numero de veiculos de passeio: \"))\n",
    "    acidentes = int(input(\"Numero de acidentes de transito com vitimas: \"))\n",
    "    count+=1\n",
    "    soma+= veiculos\n",
    "    med_cidades = soma / count\n",
    "    soma2+=acidentes\n",
    "\n",
    "    if acidentes > maior:\n",
    "        maior = acidentes\n",
    "        cid = cidade\n",
    "    if count == 1 or acidentes < menor:\n",
    "        menor = acidentes\n",
    "        cid2 = cidade\n",
    "    if veiculos < 2000:\n",
    "        media = soma2 / count\n",
    "\n",
    "print(\"-=\"*30)\n",
    "print(f\"O menor indice de acidentes de transito é: {menor}, que pertence a cidade: {cid2}\")\n",
    "print(f\"O maior indice de acidenstes de transito é: {maior} que pertence a cidade: {cid}\")\n",
    "print(f\"Media de veiculos nas cincos cidades: {med_cidades}\")\n",
    "print(f\"Media de acidentes de transitos nas cidades com menos de 2000: {media}\")"
   ]
  },
  {
   "cell_type": "markdown",
   "metadata": {},
   "source": [
    "24. Faça um programa que receba o valor de uma dívida e mostre\n",
    "uma tabela com os seguintes dados: valor da dívida, valor dos juros,\n",
    "quantidade de parcelas e valor da parcela.\n",
    "Os juros e a quantidade de parcelas seguem a tabela abaixo:\n",
    "Quantidade de Parcelas % de Juros sobre o valor inicial da dívida\n",
    "1 0\n",
    "3 10\n",
    "6 15\n",
    "9 20\n",
    "12 25\n",
    "Exemplo de saída do programa:\n",
    "Valor da Dívida Valor dos Juros Quantidade de Parcelas Valor da Parcela\n",
    "R$ 1.000,00 0 1 R$ 1.000,00\n",
    "R$ 1.100,00 100 3 R$ 366,00\n",
    "R$ 1.150,00 150 6 R$ 191,67\n"
   ]
  },
  {
   "cell_type": "code",
   "execution_count": null,
   "metadata": {},
   "outputs": [],
   "source": [
    "div = float (input (\"Digite o valor da divida: \"))\n",
    "parc = int (input (\"Digite a quantidade de parcelas: \"))\n",
    "\n",
    "if parc == 1:\n",
    "    valor = div * 1\n",
    "    parc1 = valor // 1\n",
    "    \n",
    "    print (\"Valor da divida: \", valor)\n",
    "    print (\"Valor do juros: \", valor - div)\n",
    "    print (\"Quantidade de parcelas: \", parc)\n",
    "    print (\"Valor da parcela: \", parc1 )\n",
    "elif parc == 3:\n",
    "    valor = div * 1.1\n",
    "    parc1 = valor // 3\n",
    "    \n",
    "    print (\"Valor da divida: \", valor)\n",
    "    print (\"Valor do juros: \", valor - div)\n",
    "    print (\"Quantidade de parcelas: \", parc)\n",
    "    print (\"Valor da parcela: \", parc1 )\n",
    "    \n",
    "elif parc == 6:\n",
    "    valor = div * 1.15\n",
    "    parc1 = valor // 6\n",
    "    \n",
    "    print (\"Valor da divida: \", valor)\n",
    "    print (\"Valor do juros: \", valor - div)\n",
    "    print (\"Quantidade de parcelas: \", parc)\n",
    "    print (\"Valor da parcela: \", parc1 )\n",
    "\n",
    "elif parc == 9:\n",
    "    valor = div * 1.20\n",
    "    parc1 = valor // 9\n",
    "    \n",
    "    print (\"Valor da divida: \", valor)\n",
    "    print (\"Valor do juros: \", valor - div)\n",
    "    print (\"Quantidade de parcelas: \", parc)\n",
    "    print (\"Valor da parcela: \", parc1 )\n",
    "\n",
    "elif parc == 12:\n",
    "    valor = div * 1.25\n",
    "    parc1 = valor // 12\n",
    "    \n",
    "    print (\"Valor da divida: \", valor)\n",
    "    print (\"Valor do juros: \", valor - div)\n",
    "    print (\"Quantidade de parcelas: \", parc)\n",
    "    print (\"Valor da parcela: \", parc1 )\n",
    "else:\n",
    "    print(\"Não é possivel usar essa quantidade de parcelas\")\n",
    "    "
   ]
  },
  {
   "cell_type": "markdown",
   "metadata": {},
   "source": [
    "25. Faça um programa que mostre os n termos da Série a seguir:\n",
    " S = 1/1 + 2/3 + 3/5 + 4/7 + 5/9 + ... + n/m.\n",
    "Imprima no fnal a soma da série."
   ]
  },
  {
   "cell_type": "code",
   "execution_count": 13,
   "metadata": {},
   "outputs": [],
   "source": [
    "\n"
   ]
  }
 ],
 "metadata": {
  "kernelspec": {
   "display_name": "Python 3",
   "language": "python",
   "name": "python3"
  },
  "language_info": {
   "codemirror_mode": {
    "name": "ipython",
    "version": 3
   },
   "file_extension": ".py",
   "mimetype": "text/x-python",
   "name": "python",
   "nbconvert_exporter": "python",
   "pygments_lexer": "ipython3",
   "version": "3.6.5"
  }
 },
 "nbformat": 4,
 "nbformat_minor": 2
}
