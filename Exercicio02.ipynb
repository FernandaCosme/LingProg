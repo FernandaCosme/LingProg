{
 "cells": [
  {
   "cell_type": "markdown",
   "metadata": {},
   "source": [
    "1 Crie um programa que recebe uma lista de números e\n",
    "- retorne o maior elemento\n",
    "- retorne a soma dos elementos\n",
    "- retorne o número de ocorrências do primeiro elemento da lista\n",
    "- retorne a média dos elementos\n",
    "- retorne o valor mais próximo da média dos elementos\n",
    "- retorne a soma dos elementos com valor negativo\n",
    "- retorne a quantidade de vizinhos iguais"
   ]
  },
  {
   "cell_type": "code",
   "execution_count": null,
   "metadata": {},
   "outputs": [],
   "source": [
    "num = [int(input (\"Digite um numero: \")) for i in range (10)]\n",
    "    \n",
    "print(\"O maior elemento é: \", max(num))\n",
    "print(\"A soma dos elementos é: \", sum(num))\n",
    "print(\"A primeira ocorrencia foi: \", num [0])\n",
    "print(\"O numero mais proximo da média é: \", int (sum(num) / len(num)))\n",
    "print(\"O maior elemento é: \", max(num))\n",
    "print(\"A soma dos valores negativos: \", \n",
    "     sum(i for i in num if i <= 0)\n",
    "     )\n",
    "print(\"Numeros iguais: \", )\n"
   ]
  },
  {
   "cell_type": "markdown",
   "metadata": {},
   "source": [
    "2 Faça um programa que receba duas listas e retorne True se são\n",
    "iguais ou False caso contrario.\n",
    "Duas listas são iguais se possuem os mesmos valores e na mesma\n",
    "ordem."
   ]
  },
  {
   "cell_type": "code",
   "execution_count": 21,
   "metadata": {},
   "outputs": [
    {
     "name": "stdout",
     "output_type": "stream",
     "text": [
      "Digite : a\n",
      "Digite : s\n",
      "Digite : d\n",
      "Digite : d\n",
      "Digite : s\n",
      "Digite : a\n",
      "Digite : d\n",
      "Digite : s\n",
      "Digite : a\n",
      "Digite : d\n",
      "False\n"
     ]
    }
   ],
   "source": [
    "list1 = [input (\"Digite : \") for i in range (5)]\n",
    "list2 = [input (\"Digite : \") for i in range (5)]\n",
    "\n",
    "if list1 == list2:\n",
    "    print (\"True\")\n",
    "else:\n",
    "    print(\"False\")"
   ]
  },
  {
   "cell_type": "markdown",
   "metadata": {},
   "source": [
    "3 Faça um programa que receba duas listas e retorne True se têm\n",
    "os mesmos elementos ou False caso contrário\n",
    "Duas listas possuem os mesmos elementos quando são compostas\n",
    "pelos mesmos valores, mas não obrigatoriamente na mesma ordem."
   ]
  },
  {
   "cell_type": "code",
   "execution_count": 3,
   "metadata": {},
   "outputs": [
    {
     "name": "stdout",
     "output_type": "stream",
     "text": [
      "Digite : t\n",
      "Digite : e\n",
      "Digite : s\n",
      "Digite : t\n",
      "Digite : e\n",
      "Digite : t\n",
      "Digite : e\n",
      "Digite : s\n",
      "Digite : t\n",
      "Digite : e\n",
      "True\n"
     ]
    }
   ],
   "source": [
    "list1 = [input (\"Digite : \") for i in range (5)]\n",
    "list2 = [input (\"Digite : \") for i in range (5)]\n",
    "\n",
    "resultado = list1\n",
    "if list1 == list2:\n",
    "    print(\"True\")\n",
    "else:\n",
    "    i=0\n",
    "    for i in list1[:]:\n",
    "        if i in list2:\n",
    "            resultado.remove(i)\n",
    "    print(\"Divergência: \", resultado)\n",
    "        "
   ]
  },
  {
   "cell_type": "markdown",
   "metadata": {},
   "source": [
    "4 Faça um programa que percorre uma lista com o seguinte\n",
    "formato: [['Brasil', 'Italia', [10, 9]], ['Brasil', 'Espanha', [5, 7]],\n",
    "['Italia', 'Espanha', [7,8]]]. Essa lista indica o número de faltas que\n",
    "cada time fez em cada jogo. Na lista acima, no jogo entre Brasil e\n",
    "Itália, o Brasil fez 10 faltas e a Itália fez 9.\n",
    "O programa deve imprimir na tela:\n",
    "- o total de faltas do campeonato\n",
    "- o time que fez mais faltas\n",
    "- o time que fez menos faltas\n"
   ]
  },
  {
   "cell_type": "code",
   "execution_count": 25,
   "metadata": {},
   "outputs": [
    {
     "name": "stdout",
     "output_type": "stream",
     "text": [
      "Total de Faltas no campeonato: 46\n"
     ]
    }
   ],
   "source": [
    "list = [['Brasil', 'Italia', [10, 9]], ['Brasil', 'Espanha', [5, 7]], ['Italia', 'Espanha', [7,8]]]\n",
    "\n",
    "soma=0\n",
    "for t in list:\n",
    "        soma += t[2][0]\n",
    "        soma += t[2][1]\n",
    "print(\"Total de Faltas no campeonato:\", soma)\n",
    "\n",
    "#print(\"Time que fez mais faltas: \", t[0])\n",
    "    \n",
    "#print(\"Time que fez menos faltas: \", t[0])"
   ]
  },
  {
   "cell_type": "markdown",
   "metadata": {},
   "source": [
    "5 Escreva um programa que conta a quantidade de vogais em uma\n",
    "string e armazena tal quantidade em um dicionário, onde a chave é\n",
    "a vogal considerada."
   ]
  },
  {
   "cell_type": "code",
   "execution_count": 1,
   "metadata": {},
   "outputs": [
    {
     "name": "stdout",
     "output_type": "stream",
     "text": [
      "Digite algo: teste\n",
      "{'E': 2}\n"
     ]
    }
   ],
   "source": [
    "s = input (\"Digite algo: \")\n",
    "\n",
    "dic={}\n",
    "smaior= s.upper()\n",
    "if (\"A\" in smaior):\n",
    "    dic['A']=smaior.count(\"A\")\n",
    "if (\"E\" in smaior):\n",
    "    dic['E']=smaior.count(\"E\")\n",
    "if (\"I\" in smaior):\n",
    "    dic['I']=smaior.count(\"I\")\n",
    "if (\"O\" in smaior):\n",
    "    dic['O']=smaior.count(\"O\")\n",
    "if (\"U\" in smaior):\n",
    "    dic['U']=smaior.count(\"U\")\n",
    "print(dic)"
   ]
  },
  {
   "cell_type": "markdown",
   "metadata": {},
   "source": [
    "6 Escreva um programa que lê̂ duas notas de vários alunos e armazena tais notas em um dicionário, onde a chave é o nome do aluno. A entrada de dados deve terminar quando for lida uma string vazia como nome. Escreva uma função que retorna a média do aluno, dado seu nome"
   ]
  },
  {
   "cell_type": "code",
   "execution_count": 2,
   "metadata": {},
   "outputs": [
    {
     "name": "stdout",
     "output_type": "stream",
     "text": [
      "Insira o nome do aluno: ter\n",
      "Insira a primeira nota: 1\n",
      "Insira a segunda nota: 2\n",
      "Insira o nome do aluno: er\n",
      "Insira a primeira nota: 1\n",
      "Insira a segunda nota: 2\n",
      "Insira o nome do aluno: \n",
      "Insira o nome do aluno o qual deseja ver a média: ter\n"
     ]
    },
    {
     "data": {
      "text/plain": [
       "1.5"
      ]
     },
     "execution_count": 2,
     "metadata": {},
     "output_type": "execute_result"
    }
   ],
   "source": [
    "dic = {}\n",
    "i = 0\n",
    "nome = input(\"Insira o nome do aluno: \")\n",
    "while nome != \"\":\n",
    "    dic[nome] = [\n",
    "        float(input(\"Insira a primeira nota: \")),\n",
    "        float(input(\"Insira a segunda nota: \"))\n",
    "    ]\n",
    "    nome = input(\"Insira o nome do aluno: \")\n",
    "\n",
    "def media(nome):\n",
    "    return (dic[nome][0] + dic[nome][1]) / 2\n",
    "\n",
    "media(input(\"Insira o nome do aluno o qual deseja ver a média: \"))"
   ]
  },
  {
   "cell_type": "markdown",
   "metadata": {},
   "source": [
    "7 Uma pista de Kart permite 10 voltas para cada um de 6 corredores. Escreva um programa que leia todos os tempos em segundos e os guarde em um dicionário, onde a chave é o nome do corredor. Ao fnal diga de quem foi a melhor volta da prova e em que volta; e ainda a classifcação fnal em ordem (1o o campeão). O campeão é o que tem a menor média de tempos."
   ]
  },
  {
   "cell_type": "code",
   "execution_count": 3,
   "metadata": {},
   "outputs": [
    {
     "name": "stdout",
     "output_type": "stream",
     "text": [
      "1° lugar: Rebecca - 59.9 segs.\n",
      "2° lugar: Willian - 60.6 segs.\n",
      "3° lugar: Wagner - 60.8 segs.\n",
      "4° lugar: Marcos - 61.2 segs.\n",
      "5° lugar: José - 61.6 segs.\n",
      "6° lugar: Fernando - 63.8 segs.\n"
     ]
    }
   ],
   "source": [
    "import operator\n",
    "\n",
    "dic = {\n",
    "    \"Willian\": [57, 58, 60, 56, 64, 70, 59, 58, 69, 55],\n",
    "    \"Wagner\": [56, 60, 72, 50, 67, 58, 61, 63, 62, 59],\n",
    "    \"Rebecca\": [79, 52, 58, 48, 58, 59, 61, 65, 59, 60],\n",
    "    \"Fernando\": [56, 50, 55, 70, 85, 73, 68, 65, 56, 60],\n",
    "    \"Marcos\": [69, 55, 67, 50, 52, 53, 70, 75, 65, 56],\n",
    "    \"José\": [56, 63, 63, 65, 70, 59, 55, 60, 63, 62]\n",
    "}\n",
    "\n",
    "volta = 0\n",
    "medias = dic\n",
    "nome = \"\"\n",
    "melhor_volta = dic[\"Willian\"][0]\n",
    "for chave in dic:\n",
    "    soma = 0\n",
    "    for num in dic[chave]:\n",
    "        if num < melhor_volta:\n",
    "            melhor_volta = num\n",
    "            nome = chave\n",
    "        soma += num\n",
    "    medias[chave] = soma / 10\n",
    "\n",
    "#itemgeter 1 é a pos do valor do medias.items()\n",
    "sort = sorted(medias.items(), key=operator.itemgetter(1))\n",
    "for i in range(0, 6):\n",
    "    print(\"%s° lugar: %s - %s segs.\" % (i + 1, sort[i][0], sort[i][1]))\n"
   ]
  },
  {
   "cell_type": "markdown",
   "metadata": {},
   "source": [
    "8 Escreva um programa para armazenar uma agenda de telefones em um dicionário. Cada pessoa pode ter um ou mais telefones e a chave do dicionário é o nome da pessoa. Seu programa deve ter as seguintes funções: incluirNovoNome – essa função acrescenta um novo nome na agenda, com um ou mais telefones. Ela deve receber como argumentos o nome e os telefones. incluirTelefone – essa função acrescenta um telefone em um nome existente na agenda. Caso o nome não exista na agenda, você̂ deve perguntar se a pessoa deseja inclui-lo. Caso a resposta seja afrmativa, use a função anterior para incluir o novo nome. excluirTelefone – essa função exclui um telefone de uma pessoa que já está na agenda. Se a pessoa tiver apenas um telefone, ela deve ser excluída da agenda. excluirNome – essa função exclui uma pessoa da agenda. consultarTelefone – essa função retorna os telefones de uma pessoa na agenda"
   ]
  },
  {
   "cell_type": "code",
   "execution_count": 6,
   "metadata": {},
   "outputs": [
    {
     "name": "stdout",
     "output_type": "stream",
     "text": [
      "\n",
      "Escolha uma opção: \n",
      "1 - Incluir Novo Nome\n",
      "2 - Incluir Telefone\n",
      "3 - Excluir Telefone\n",
      "4 - Consultar Agenda\n",
      "0 - Encerrar Programa\n",
      "1\n",
      "Insira o nome da pessoa: Fernanda\n",
      "Insira um telefone da pessoa: 37874387289\n",
      "Inserir outro telefone (ou digite 0 para parar): 0\n",
      "\n",
      "Escolha uma opção: \n",
      "1 - Incluir Novo Nome\n",
      "2 - Incluir Telefone\n",
      "3 - Excluir Telefone\n",
      "4 - Consultar Agenda\n",
      "0 - Encerrar Programa\n",
      "4\n",
      "Insira o nome da pessoa: Fernanda\n",
      "[37874387289]\n",
      "\n",
      "Escolha uma opção: \n",
      "1 - Incluir Novo Nome\n",
      "2 - Incluir Telefone\n",
      "3 - Excluir Telefone\n",
      "4 - Consultar Agenda\n",
      "0 - Encerrar Programa\n",
      "2\n",
      "Insira o nome da pessoa: Fernanda\n",
      "Insira um novo telefone da pessoa: 746398887\n",
      "\n",
      "Escolha uma opção: \n",
      "1 - Incluir Novo Nome\n",
      "2 - Incluir Telefone\n",
      "3 - Excluir Telefone\n",
      "4 - Consultar Agenda\n",
      "0 - Encerrar Programa\n",
      "4\n",
      "Insira o nome da pessoa: Fernanda\n",
      "[37874387289, 746398887]\n",
      "\n",
      "Escolha uma opção: \n",
      "1 - Incluir Novo Nome\n",
      "2 - Incluir Telefone\n",
      "3 - Excluir Telefone\n",
      "4 - Consultar Agenda\n",
      "0 - Encerrar Programa\n",
      "3\n",
      "Insira o nome da pessoa: Fernanda\n",
      "Insira o telefone da pessoa a qual deseja excluir: 37874387289\n",
      "\n",
      "Escolha uma opção: \n",
      "1 - Incluir Novo Nome\n",
      "2 - Incluir Telefone\n",
      "3 - Excluir Telefone\n",
      "4 - Consultar Agenda\n",
      "0 - Encerrar Programa\n",
      "4\n",
      "Insira o nome da pessoa: Fernanda\n",
      "[746398887]\n",
      "\n",
      "Escolha uma opção: \n",
      "1 - Incluir Novo Nome\n",
      "2 - Incluir Telefone\n",
      "3 - Excluir Telefone\n",
      "4 - Consultar Agenda\n",
      "0 - Encerrar Programa\n",
      "0\n"
     ]
    }
   ],
   "source": [
    "agenda = {}\n",
    "\n",
    "def incluir_novo_nome(nome, telefones):\n",
    "    global agenda\n",
    "    agenda[nome] = telefones\n",
    "    \n",
    "def incluir_telefone(nome, telefone):\n",
    "    global agenda\n",
    "    if nome in agenda.keys():\n",
    "        agenda[nome].append(telefone)\n",
    "    else:\n",
    "        if input(\"Essa pessoa não existe, incluir ela na agenda (s/n)? \") == \"s\":\n",
    "            telefones = [telefone]\n",
    "            incluir_novo_nome(nome, telefones)\n",
    "            \n",
    "def excluir_telefone(nome, telefone):\n",
    "    global agenda\n",
    "    if nome in agenda.keys():\n",
    "        if len(agenda[nome]) == 1:\n",
    "            del agenda[nome]\n",
    "        else:\n",
    "            for num in range(0, len(agenda[nome]) - 1):\n",
    "                if telefone == agenda[nome][num]:\n",
    "                    agenda[nome].pop(num)\n",
    "        \n",
    "def consultar_telefone(nome):\n",
    "    global agenda\n",
    "    if nome in agenda.keys():\n",
    "        print(agenda[nome])\n",
    "    \n",
    "opcao = -1\n",
    "while opcao != 0:\n",
    "    opcao = int(input(\"\\nEscolha uma opção: \\n1 - Incluir Novo Nome\\n2 - Incluir Telefone\\n3 - Excluir Telefone\\n4 - Consultar Agenda\\n0 - Encerrar Programa\\n\"))\n",
    "    \n",
    "    # INSERIR NOVO NOME\n",
    "    if opcao == 1:\n",
    "        nome = input(\"Insira o nome da pessoa: \")\n",
    "        telefones = []\n",
    "        telefones.append(int(input(\"Insira um telefone da pessoa: \")))\n",
    "        telefone = -1\n",
    "        while telefone != 0:\n",
    "            telefone = int(input(\"Inserir outro telefone (ou digite 0 para parar): \"))\n",
    "            if telefone != 0:\n",
    "                telefones.append(telefone)\n",
    "        incluir_novo_nome(nome, telefones)\n",
    "    # INCLUIR TELEFONE\n",
    "    elif opcao == 2:\n",
    "        nome = input(\"Insira o nome da pessoa: \")\n",
    "        telefone = int(input(\"Insira um novo telefone da pessoa: \"))\n",
    "        incluir_telefone(nome, telefone)\n",
    "    # EXCLUIR TELEFONE\n",
    "    elif opcao == 3:\n",
    "        nome = input(\"Insira o nome da pessoa: \")\n",
    "        telefone = int(input(\"Insira o telefone da pessoa a qual deseja excluir: \"))\n",
    "        excluir_telefone(nome, telefone)\n",
    "    elif opcao == 4:\n",
    "        consultar_telefone(input(\"Insira o nome da pessoa: \"))"
   ]
  },
  {
   "cell_type": "markdown",
   "metadata": {},
   "source": [
    "9 Faça um programa que leia um arquivo texto contendo uma lista de endereços IP e gere um outro arquivo, contendo um relatório dos endereços IP válidos e inválidos. O arquivo de entrada possui o seguinte formato:\n",
    "\n",
    "200.135.80.9\n",
    "192.168.1.1 \n",
    "8.35.67.74 \n",
    "257.32.4.5 \n",
    "85.345.1.2 \n",
    "1.2.3.4 \n",
    "9.8.234.5 \n",
    "192.168.0.256 \n",
    "O arquivo de saída possui o seguinte formato:\n",
    "\n",
    "[Endereços válidos:] \n",
    "200.135.80.9 \n",
    "192.168.1.1 \n",
    "8.35.67.74 \n",
    "1.2.3.4 \n",
    "\n",
    "[Endereços inválidos:] \n",
    "257.32.4.5 \n",
    "85.345.1.2 \n",
    "9.8.234.5 \n",
    "192.168.0.256"
   ]
  },
  {
   "cell_type": "code",
   "execution_count": 7,
   "metadata": {},
   "outputs": [
    {
     "ename": "FileNotFoundError",
     "evalue": "[Errno 2] No such file or directory: 'ips.txt'",
     "output_type": "error",
     "traceback": [
      "\u001b[1;31m---------------------------------------------------------------------------\u001b[0m",
      "\u001b[1;31mFileNotFoundError\u001b[0m                         Traceback (most recent call last)",
      "\u001b[1;32m<ipython-input-7-e060af251983>\u001b[0m in \u001b[0;36m<module>\u001b[1;34m()\u001b[0m\n\u001b[0;32m      4\u001b[0m \u001b[0mipsInvalidos\u001b[0m \u001b[1;33m=\u001b[0m \u001b[1;33m[\u001b[0m\u001b[1;33m]\u001b[0m\u001b[1;33m\u001b[0m\u001b[0m\n\u001b[0;32m      5\u001b[0m \u001b[1;33m\u001b[0m\u001b[0m\n\u001b[1;32m----> 6\u001b[1;33m \u001b[0mips\u001b[0m \u001b[1;33m=\u001b[0m \u001b[0mopen\u001b[0m\u001b[1;33m(\u001b[0m\u001b[1;34m\"ips.txt\"\u001b[0m\u001b[1;33m)\u001b[0m\u001b[1;33m\u001b[0m\u001b[0m\n\u001b[0m\u001b[0;32m      7\u001b[0m \u001b[1;32mfor\u001b[0m \u001b[0mip\u001b[0m \u001b[1;32min\u001b[0m \u001b[0mips\u001b[0m\u001b[1;33m:\u001b[0m\u001b[1;33m\u001b[0m\u001b[0m\n\u001b[0;32m      8\u001b[0m     \u001b[1;32mtry\u001b[0m\u001b[1;33m:\u001b[0m\u001b[1;33m\u001b[0m\u001b[0m\n",
      "\u001b[1;31mFileNotFoundError\u001b[0m: [Errno 2] No such file or directory: 'ips.txt'"
     ]
    }
   ],
   "source": [
    "import socket\n",
    "\n",
    "ipsValidos = []\n",
    "ipsInvalidos = []\n",
    "\n",
    "ips = open(\"ips.txt\")\n",
    "for ip in ips:\n",
    "    try:\n",
    "        socket.inet_aton(ip)\n",
    "        # Validos\n",
    "        ipsValidos.append(ip)\n",
    "    except socket.error:\n",
    "        # Invalidos\n",
    "        ipsInvalidos.append(ip)\n",
    "        \n",
    "ips.close()\n",
    "\n",
    "saida = open(\"ipsvalidados.txt\", \"w+\")\n",
    "\n",
    "saida.write(\"[Endereços válidos:]\\n\")\n",
    "for ip in ipsValidos:\n",
    "    saida.write(ip)\n",
    "    \n",
    "saida.write(\"[Endereços inválidos:]\\n\")\n",
    "for ip in ipsInvalidos:\n",
    "    saida.write(ip)\n",
    "    \n",
    "saida.close()"
   ]
  },
  {
   "cell_type": "markdown",
   "metadata": {},
   "source": [
    "10 A ACME Inc., uma empresa de 500 funcionários, está tendo problemas de espaço em disco no seu servidor de arquivos. Para tentar resolver este problema, o Administrador de Rede precisa saber qual o espaço ocupado pelos usuários, e identifcar os usuários com maior espaço ocupado. Através de um programa, baixado da Internet, ele conseguiu gerar o seguinte arquivo, chamado \"usuarios.txt\": alexandre       456123789 anderson        1245698456 antonio         123456456 carlos          91257581 cesar           987458 rosemary        789456125 Neste arquivo, o nome do usuário possui 15 caracteres. A partir deste arquivo, você deve criar um programa que gere um relatório, chamado \"relatório.txt\", no seguinte formato: ACME Inc.               Uso do espaço em disco pelos usuários ----------------------------------------------------------------------Nr.  Usuário        Espaço utilizado     % do uso 1    alexandre       434,99 MB             16,85% 2    anderson       1187,99 MB             46,02% 3    antonio         117,73 MB              4,56% 4    carlos           87,03 MB              3,37% 5    cesar             0,94 MB              0,04% 6    rosemary        752,88 MB             29,16% Espaço total ocupado: 2581,57 MB Espaço médio ocupado: 430,26 MB O arquivo de entrada deve ser lido uma única vez, e os dados armazenados em memória, caso sejam necessários, de forma a agilizar a execução do programa. A conversão da espaço ocupado em disco, de bytes para megabytes deverá ser feita através de uma função separada, que será chamada pelo programa principal. O cálculo do percentual de uso também deverá ser feito através de uma função, que será chamada pelo programa principal."
   ]
  }
 ],
 "metadata": {
  "kernelspec": {
   "display_name": "Python 3",
   "language": "python",
   "name": "python3"
  },
  "language_info": {
   "codemirror_mode": {
    "name": "ipython",
    "version": 3
   },
   "file_extension": ".py",
   "mimetype": "text/x-python",
   "name": "python",
   "nbconvert_exporter": "python",
   "pygments_lexer": "ipython3",
   "version": "3.6.5"
  }
 },
 "nbformat": 4,
 "nbformat_minor": 2
}
