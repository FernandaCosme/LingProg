{
 "cells": [
  {
   "cell_type": "markdown",
   "metadata": {},
   "source": [
    "1 Faça um Programa que peça o raio de um círculo, calcule e mostre sua área."
   ]
  },
  {
   "cell_type": "code",
   "execution_count": 2,
   "metadata": {},
   "outputs": [
    {
     "name": "stdout",
     "output_type": "stream",
     "text": [
      "Digite o raio do circulo4\n",
      "O valor da area é  50.26548245743669\n"
     ]
    }
   ],
   "source": [
    "import math\n",
    "raio = float(input (\"Digite o raio do circulo \"))\n",
    "area = math.pi * (raio **2)\n",
    "\n",
    "print(\"O valor da area é \", area)\n"
   ]
  },
  {
   "cell_type": "markdown",
   "metadata": {},
   "source": [
    "2 Faça um Programa que calcule a área de um quadrado, em seguida mostre o dobro desta área para o usuário."
   ]
  },
  {
   "cell_type": "code",
   "execution_count": 7,
   "metadata": {},
   "outputs": [
    {
     "name": "stdout",
     "output_type": "stream",
     "text": [
      "digite o valor do lado do quadrado 2\n",
      "O dobro da area é:  8.0\n"
     ]
    }
   ],
   "source": [
    "quadrado = float( input (\"digite o valor do lado do quadrado \"))\n",
    "area = quadrado **2\n",
    "print(\"O dobro da area é: \", area * 2)\n",
    "    "
   ]
  },
  {
   "cell_type": "markdown",
   "metadata": {},
   "source": [
    "3 Faça um Programa que pergunte quanto você ganha por hora e o número de horas trabalhadas no mês. Calcule e mostre o total do seu salário no referido mês."
   ]
  },
  {
   "cell_type": "code",
   "execution_count": 1,
   "metadata": {},
   "outputs": [
    {
     "name": "stdout",
     "output_type": "stream",
     "text": [
      "digite quanto você ganha por hora: 2\n",
      "digite a quantidaade de horas trabalhadas: 4\n",
      "Seu salário é:  8.0\n"
     ]
    }
   ],
   "source": [
    "salario = float(input(\"digite quanto você ganha por hora: \"))\n",
    "horas = float (input(\"digite a quantidaade de horas trabalhadas: \"))\n",
    "total = salario * horas\n",
    "print(\"Seu salário é: \", total)"
   ]
  },
  {
   "cell_type": "markdown",
   "metadata": {},
   "source": [
    "4 Faça um Programa que peça a temperatura em graus Farenheit, transforme e mostre a temperatura em graus Celsius. C = (5 * (F328 / 98."
   ]
  },
  {
   "cell_type": "code",
   "execution_count": 5,
   "metadata": {},
   "outputs": [
    {
     "name": "stdout",
     "output_type": "stream",
     "text": [
      "Digite a temperatura em fahrenheit: 2\n",
      "A temperatura em célcios é:  -16.666666666666668\n"
     ]
    }
   ],
   "source": [
    "fahrenheit = float(input(\"Digite a temperatura em fahrenheit: \"))\n",
    "celcius = 5 * (fahrenheit - 32) / 9\n",
    "print(\"A temperatura em célcios é: \", celcius)\n"
   ]
  },
  {
   "cell_type": "markdown",
   "metadata": {},
   "source": [
    "5 Faça um Programa que peça a temperatura em graus Celsius, transforme e mostre em graus Farenheit."
   ]
  },
  {
   "cell_type": "code",
   "execution_count": 6,
   "metadata": {},
   "outputs": [
    {
     "name": "stdout",
     "output_type": "stream",
     "text": [
      "Digite a temperatura em céucius: 2\n",
      "A temperatura em fahrenheit é:  35.6\n"
     ]
    }
   ],
   "source": [
    "ceucius = float(input(\"Digite a temperatura em céucius: \"))\n",
    "fahrenheit = 1.8 * ceucius +32\n",
    "print(\"A temperatura em fahrenheit é: \", fahrenheit)"
   ]
  },
  {
   "cell_type": "markdown",
   "metadata": {},
   "source": [
    "6 Faça um Programa que peça 2 números inteiros e um número real. Calcule e mostre:\n",
    "- o produto do dobro do primeiro com metade do segundo . \n",
    "- a soma do triplo do primeiro com o terceiro. \n",
    "- o terceiro elevado ao cubo."
   ]
  },
  {
   "cell_type": "code",
   "execution_count": 1,
   "metadata": {},
   "outputs": [
    {
     "name": "stdout",
     "output_type": "stream",
     "text": [
      "Digite o primeiro numero: 2\n",
      "Digite o segundo numero: 3\n",
      "Digite o terceiro numero: 4\n",
      "o produto do dobro do primeiro com metade do segundo:  6.0\n",
      "a soma do triplo do primeiro com o terceiro:  10.0\n",
      "o terceiro elevado ao cubo:  64.0\n"
     ]
    }
   ],
   "source": [
    "n01 = int(input(\"Digite o primeiro numero: \"))\n",
    "n02 = int(input(\"Digite o segundo numero: \"))\n",
    "n03 = float(input(\"Digite o terceiro numero: \"))\n",
    "\n",
    "print(\"o produto do dobro do primeiro com metade do segundo: \",(n01 *2) * (n02/2))\n",
    "print(\"a soma do triplo do primeiro com o terceiro: \", (n01*3)+n03)\n",
    "print (\"o terceiro elevado ao cubo: \", n03 **3)\n"
   ]
  },
  {
   "cell_type": "markdown",
   "metadata": {},
   "source": [
    "7 João Papo-de-Pescador, homem de bem, comprou um microcomputador para controlar o rendimento diário de seu trabalho. Toda vez que ele traz um peso de peixes maior que o estabelecido pelo regulamento de pesca do estado de São Paulo (50 quilos8 deve pagar uma multa de R$ 4,00 por quilo excedente. João precisa que você faça um programa que leia a variável peso (peso de peixes8 e verifque se há excesso. Se houver, gravar na variável excesso e na variável multa o valor da multa que João deverá pagar. Caso contrário mostrar tais variáveis com o conteúdo ZERO."
   ]
  },
  {
   "cell_type": "code",
   "execution_count": 6,
   "metadata": {},
   "outputs": [
    {
     "name": "stdout",
     "output_type": "stream",
     "text": [
      "Digite quantos kilos de peixe tem: 60\n",
      "Valor total:  100.0\n"
     ]
    }
   ],
   "source": [
    "valorPeixe = float(input(\"Digite quantos kilos de peixe tem: \"))\n",
    "\n",
    "if valorPeixe > 50:\n",
    "    print(\"Valor total: \", (valorPeixe +(valorPeixe - 50) * 4))\n",
    "else:\n",
    "    print (\"Valor total: \", valorPeixe)"
   ]
  },
  {
   "cell_type": "markdown",
   "metadata": {},
   "source": [
    "8 Faça um Programa que pergunte quanto você ganha por hora e o número de horas trabalhadas no mês. Calcule e mostre o total do seu salário no referido mês, sabendo-se que são descontados 11% para o Imposto de Renda, 8% para o INSS e 5% para o sindicato, faça um programa que nos dê: \n",
    "- salário bruto. \n",
    "- quanto pagou ao INSS. \n",
    "- quanto pagou ao sindicato. \n",
    "- o salário líquido. \n",
    "- calcule os descontos e o salário líquido, conforme a tabela abaixo:           \n",
    "+ Salário Bruto : R$           \n",
    "- IR (11%8 : R$           \n",
    "- INSS (8%8 : R$           \n",
    "- Sindicato ( 5%8 : R$           \n",
    "= Salário Liquido : R$ \n",
    "Obs.: Salário Bruto - Descontos = Salário Líquido"
   ]
  },
  {
   "cell_type": "code",
   "execution_count": 1,
   "metadata": {},
   "outputs": [
    {
     "name": "stdout",
     "output_type": "stream",
     "text": [
      "Digite seu ganho por hora: 1000\n",
      "Digite a quantidade de horas trabalhadas: 3\n",
      "Seu salário é: 3000.0\n",
      "Valor do INSS:  240.0\n",
      "Valor pago de sindicato:  150.0\n",
      "Valor do Imposto de Renda:  330.0\n",
      "Seu salario liquido é:  2280.0\n"
     ]
    }
   ],
   "source": [
    "salario = float (input(\"Digite seu ganho por hora: \"))\n",
    "horas = float(input(\"Digite a quantidade de horas trabalhadas: \"))\n",
    "\n",
    "salarioBruto = salario * horas\n",
    "inss = salarioBruto * 0.08\n",
    "imposto = salarioBruto * 0.11\n",
    "sindicato = salarioBruto * 0.05\n",
    "salarioLiquido = salarioBruto - (inss + imposto + sindicato)\n",
    "\n",
    "print(\"Seu salário é:\", salarioBruto)\n",
    "print(\"Valor do INSS: \", inss)\n",
    "print(\"Valor pago de sindicato: \", sindicato)\n",
    "print(\"Valor do Imposto de Renda: \", imposto)\n",
    "print(\"Seu salario liquido é: \", salarioLiquido)"
   ]
  },
  {
   "cell_type": "markdown",
   "metadata": {},
   "source": [
    "9 Faça um programa que leia 2 strings e informe o conteúdo delas seguido do seu comprimento. Informe também se as duas strings possuem o mesmo comprimento e são iguais ou diferentes no conteúdo. Exemplo: String 1: Brasil Hexa 2018 String 2: Brasil! Hexa 2018! Tamanho de \"Brasil Hexa 2018\": 16 caracteres Tamanho de \"Brasil! Hexa 2018!\": 18 caracteres As duas strings são de tamanhos diferentes. As duas strings possuem conteúdo diferente."
   ]
  },
  {
   "cell_type": "code",
   "execution_count": 4,
   "metadata": {},
   "outputs": [
    {
     "name": "stdout",
     "output_type": "stream",
     "text": [
      "Digite um nome: fer\n",
      "Digite um nome: fer\n",
      "O nome é fer e seu comprimento é 3\n",
      "O nome é fer e seu comprimento é 3\n",
      "As strings possuem o mesmo comprimento\n"
     ]
    }
   ],
   "source": [
    "string1 = input(\"Digite um nome: \")\n",
    "string2 = input(\"Digite um nome: \")\n",
    "\n",
    "tamanho1 = len(string1)\n",
    "tamanho2 = len(string2)\n",
    "\n",
    "print(\"O nome é {} e seu comprimento é {}\".format(string1, tamanho1))\n",
    "print(\"O nome é {} e seu comprimento é {}\".format(string2, tamanho2))\n",
    "if tamanho1 == tamanho2:\n",
    "    print (\"As strings possuem o mesmo comprimento\")\n",
    "else:\n",
    "    print (\"As strings não possuem o mesmo comprimento\")"
   ]
  },
  {
   "cell_type": "markdown",
   "metadata": {},
   "source": [
    "10 Faça um programa que permita ao usuário digitar o seu nome e em seguida mostre o nome do usuário de trás para frente utilizando somente letras maiúsculas. Dica: lembre−se que ao informar o nome o usuário pode digitar letras maiúsculas ou minúsculas. Observação: não use loops."
   ]
  },
  {
   "cell_type": "code",
   "execution_count": 6,
   "metadata": {},
   "outputs": [
    {
     "name": "stdout",
     "output_type": "stream",
     "text": [
      "Digite seu nome: oi\n",
      "Seu nome é:  IO\n"
     ]
    }
   ],
   "source": [
    "nome = input(\"Digite seu nome: \")\n",
    "print(\"Seu nome é: \", nome [::-1].upper())"
   ]
  },
  {
   "cell_type": "markdown",
   "metadata": {},
   "source": [
    "11 Faça um programa que solicite a data de nascimento (dd/mm/aaaa8 do usuário e imprima a data com o nome do mês por extenso. Data de Nascimento: 29/10/1973 \n",
    "Você nasceu em  29 de Outubro de 1973. \n",
    "Obs.: Não use desvio condicional nem loops."
   ]
  },
  {
   "cell_type": "code",
   "execution_count": null,
   "metadata": {},
   "outputs": [],
   "source": [
    "\n",
    "import locale\n",
    "from datetime import date\n",
    "locale.setlocale(locale.LC_TIME, 'portuguese_brazil')\n",
    "\n",
    "dataNascimento = input(\"Digite a data de nascimento: (dd/mm/aaaa)\").slipt(\"/\")\n",
    "data = data(dia=int(dataNascimento[0]),mes=int(dataNascimento[1], ano=int(dataNascimento[2]))\n",
    "\n",
    "str=data.strftime('%A %d de %B de %Y')\n",
    "\n",
    "print(\"Você nasceu em \", str)\n",
    "\n"
   ]
  },
  {
   "cell_type": "markdown",
   "metadata": {},
   "source": [
    "12 Leet é uma forma de se escrever o alfabeto latino usando outros símbolos em lugar das letras, como números por exemplo. A própria palavra leet admite muitas variações, como l33t ou 1337. O uso do leet reflete uma subcultura relacionada ao mundo dos jogos de computador e internet, sendo muito usada para confundir os iniciantes e afrmar-se como parte de um grupo. Pesquise sobre as principais formas de traduzir as letras. Depois, faça um programa que peça uma texto e transforme-o para a grafa leet speak. Desafo: não use loops nem desvios condicionais."
   ]
  },
  {
   "cell_type": "code",
   "execution_count": 1,
   "metadata": {},
   "outputs": [
    {
     "name": "stdout",
     "output_type": "stream",
     "text": [
      "Digite um texto: oi\n"
     ]
    }
   ],
   "source": [
    "import string\n",
    "\n",
    "string = input (\"Digite um texto: \")\n",
    "\n",
    "translation = {\"a\": \"4\", \"A\": \"4\", \"e\": \"3\", \"E\": \"3\", \"i\": \"1\", \"I\": \"1\", \"o\": \"0\", \"O\": \"0\", \"t\": \"7\", \"T\": \"7\", \"s\": '5', \"S\": '5'}\n",
    "string = string.translate(str.maketrans(translation))\n",
    "\n",
    "print = string"
   ]
  },
  {
   "cell_type": "code",
   "execution_count": null,
   "metadata": {},
   "outputs": [],
   "source": []
  }
 ],
 "metadata": {
  "kernelspec": {
   "display_name": "Python 3",
   "language": "python",
   "name": "python3"
  },
  "language_info": {
   "codemirror_mode": {
    "name": "ipython",
    "version": 3
   },
   "file_extension": ".py",
   "mimetype": "text/x-python",
   "name": "python",
   "nbconvert_exporter": "python",
   "pygments_lexer": "ipython3",
   "version": "3.6.5"
  }
 },
 "nbformat": 4,
 "nbformat_minor": 2
}
