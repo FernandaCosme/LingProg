{
 "cells": [
  {
   "cell_type": "markdown",
   "metadata": {},
   "source": [
    "1 Defna a função somannat que recebe como argumento um número natural n\n",
    " e devolve a soma de todos os números naturais até n.\n",
    "Ex: somannat(5) = 15"
   ]
  },
  {
   "cell_type": "code",
   "execution_count": 2,
   "metadata": {},
   "outputs": [
    {
     "name": "stdout",
     "output_type": "stream",
     "text": [
      "3\n"
     ]
    }
   ],
   "source": [
    "soma_nat = lambda n: 1 if n== 1 else n + soma_nat (n - 1 )\n",
    "\n",
    "print (soma_nat(2))\n"
   ]
  },
  {
   "cell_type": "markdown",
   "metadata": {},
   "source": [
    "2 Defna a função div que recebe como argumentos dois números naturais m\n",
    " e n e devolve o resultado da divisão inteira de m por n. Neste exercício você não\n",
    "pode recorrer às operações aritmétcas de multplicação, divisão e resto da divisão\n",
    "inteira.\n",
    "Ex: div(7,2) = 3"
   ]
  },
  {
   "cell_type": "code",
   "execution_count": 4,
   "metadata": {},
   "outputs": [
    {
     "name": "stdout",
     "output_type": "stream",
     "text": [
      "2 0\n"
     ]
    }
   ],
   "source": [
    "div = lambda dividendo, divisor:0 if dividendo < divisor else 1 + div(dividendo - divisor, divisor)\n",
    "\n",
    "print( div(5,2), div(2,3))\n"
   ]
  },
  {
   "cell_type": "markdown",
   "metadata": {},
   "source": [
    "3 Defna a função primnalg que recebe como argumento um número natural e\n",
    "devolve o primeiro algarismo (o mais signifcatvo) na representação decimal de n.Ex: primnalg(5649) = 5\n",
    "Ex: primnalg(7) = 7\n"
   ]
  },
  {
   "cell_type": "code",
   "execution_count": 6,
   "metadata": {},
   "outputs": [
    {
     "name": "stdout",
     "output_type": "stream",
     "text": [
      "5 7\n"
     ]
    }
   ],
   "source": [
    "prim_alg = lambda n : n if n <= 10 else prim_alg(n//10)\n",
    "    \n",
    "print( prim_alg(5649), prim_alg(7))\n"
   ]
  },
  {
   "cell_type": "markdown",
   "metadata": {},
   "source": [
    "4 Defna a função prodnlista que recebe como argumento uma lista de inteiros e\n",
    "devolve o produto dos seus elementos.\n",
    "Ex: prodnlista([1,2,3,4,5,6]) = 720\n"
   ]
  },
  {
   "cell_type": "code",
   "execution_count": 3,
   "metadata": {},
   "outputs": [
    {
     "name": "stdout",
     "output_type": "stream",
     "text": [
      "720\n"
     ]
    }
   ],
   "source": [
    "prod_lista = lambda l: (lambda n:n)(l[0]) if len(l) == 1 else l[0]*prod_lista(l[1:])\n",
    "\n",
    "print (prod_lista([1,2,3,4,5,6]))"
   ]
  },
  {
   "cell_type": "markdown",
   "metadata": {},
   "source": [
    "5 Defna a função contemnpar que recebe como argumento uma lista de números\n",
    "inteiros o e devolve True se o contém um número par e False em caso contrário.\n",
    "Ex: contemnpar ([2,3,1,2,3,4]) = True\n",
    "Ex: contemnpar ([1,3,5,7]) = False"
   ]
  },
  {
   "cell_type": "code",
   "execution_count": 4,
   "metadata": {},
   "outputs": [
    {
     "name": "stdout",
     "output_type": "stream",
     "text": [
      "True\n"
     ]
    }
   ],
   "source": [
    "contem_parQ = lambda w: False if len(w) == 0 or (w[len(w) - 1] % 2 != 0 and not contem_parQ(w[:-1])) else True\n",
    "\n",
    "print (contem_parQ([2,3,4,5]))"
   ]
  },
  {
   "cell_type": "markdown",
   "metadata": {},
   "source": [
    "6 Defna a função todosnimpares que recebe como argumento uma lista de\n",
    "números inteiros o e devolve True se o contém apenas números ímpares e False\n",
    "em caso contrário."
   ]
  },
  {
   "cell_type": "code",
   "execution_count": 7,
   "metadata": {},
   "outputs": [
    {
     "name": "stdout",
     "output_type": "stream",
     "text": [
      "True\n",
      "False\n",
      "True\n"
     ]
    }
   ],
   "source": [
    "todos_impares = lambda w: True if len(w) == 0 or (w[len(w) - 1] % 2 != 0 and todos_impares(w[:-1])) else False\n",
    "\n",
    "print(todos_impares([1,3,5,7]))\n",
    "print(todos_impares([1,3,5,6]))\n",
    "print(todos_impares([]))"
   ]
  },
  {
   "cell_type": "code",
   "execution_count": null,
   "metadata": {},
   "outputs": [],
   "source": []
  }
 ],
 "metadata": {
  "kernelspec": {
   "display_name": "Python 3",
   "language": "python",
   "name": "python3"
  },
  "language_info": {
   "codemirror_mode": {
    "name": "ipython",
    "version": 3
   },
   "file_extension": ".py",
   "mimetype": "text/x-python",
   "name": "python",
   "nbconvert_exporter": "python",
   "pygments_lexer": "ipython3",
   "version": "3.7.0"
  }
 },
 "nbformat": 4,
 "nbformat_minor": 2
}
